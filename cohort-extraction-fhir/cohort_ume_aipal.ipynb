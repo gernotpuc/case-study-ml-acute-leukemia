{
  "cells": [
    {
      "cell_type": "markdown",
      "id": "bd83e811-d0f5-4743-a05e-704a5255716e",
      "metadata": {},
      "source": [
        "### The following Notebook extracts the UME cohort of patients with AL types from the FHIR database of UME.\n",
        "\n",
        "***The cohort is defined as follows:***\n",
        "\n",
        "- Only patients with ALL, AML and APL for the main diagnosis, based on ICD-10 codes.\n",
        "- Only patients with Aplast. Anemia, MDS, CML and MCL for differential diagnosis, based on ICD-10 codes\n",
        "- Diagnosis not older than 2015-01-01\n",
        "- Only patients age 18 years and older\n",
        "- Diagnosis must be discharge diagnosis or postoperative diagnosis\n",
        "- Ambulatory hospital encounters are exlcuded\n",
        "- Only laboratory values recorded within 72 hours after hospital admission are included. If multiple laboratory values of the same code are available, the first recorded laboratory value is used\n",
        "\n",
        "For querying data from the FHIR-database, FHIR-Pyrate was used, see:<br>\n",
        "https://github.com/UMEssen/FHIR-PYrate\n",
        "\n",
        "***This Python script executes the following steps:***\n",
        "\n",
        "1. Authenticate to FHIR-Server\n",
        "2. Search FHIR-resource Condition, filtered by defined ICD-10 codes and date >= 2015-01\n",
        "3. Filter for diagnosis made at discharge or postoperative\n",
        "4. Search FHIR-resource Encounter, filtered by discharge and postoperative diagnosis\n",
        "5. Search FHIR-resource Observation for laboratory values, filtered by inpatient encounters\n",
        "6. Filter laboratory values for relevant codes and only keep first recorded laboratory values\n",
        "7. Search FHIR-resource Patient for birth date and sex, filtered by patients for which laboratory values were recorded\n"
      ]
    },
    {
      "cell_type": "code",
      "execution_count": 2,
      "id": "5ba3dee2-f7cf-47bb-a1ef-a0ea79b6cbe0",
      "metadata": {},
      "outputs": [
        {
          "name": "stderr",
          "output_type": "stream",
          "text": [
            "/Users/tillrostalski/Git/case-study-ml-acute-leukemia/venv/lib/python3.12/site-packages/tqdm/auto.py:21: TqdmWarning: IProgress not found. Please update jupyter and ipywidgets. See https://ipywidgets.readthedocs.io/en/stable/user_install.html\n",
            "  from .autonotebook import tqdm as notebook_tqdm\n"
          ]
        }
      ],
      "source": [
        "import os\n",
        "\n",
        "import pandas as pd\n",
        "from dotenv import load_dotenv\n",
        "from fhir_pyrate import Ahoy\n",
        "from fhir_pyrate import Pirate"
      ]
    },
    {
      "cell_type": "code",
      "execution_count": 6,
      "id": "d9e3a395-b62e-4f1a-ae3c-7f5de0096389",
      "metadata": {},
      "outputs": [],
      "source": [
        "# Set up the environment\n",
        "load_dotenv()\n",
        "BASIC_AUTH = os.environ[\"BASIC_AUTH\"]\n",
        "REFRESH_AUTH = os.environ[\"REFRESH_AUTH\"]\n",
        "BASE_URL = os.environ[\"BASE_URL\"]\n",
        "\n",
        "# Define path to store the data\n",
        "DATA_PATH = os.path.join(os.path.abspath(''), \"..\", \"data\")\n",
        "\n",
        "# Authenticate against the FHIR server\n",
        "auth = Ahoy(\n",
        "    auth_type=\"token\",\n",
        "    auth_method=\"env\",\n",
        "    auth_url=BASIC_AUTH,\n",
        "    refresh_url=REFRESH_AUTH,\n",
        ")\n",
        "\n",
        "# Initiate Pirate\n",
        "search = Pirate(\n",
        "    auth=auth,\n",
        "    base_url=BASE_URL,\n",
        "    print_request_url=False\n",
        ")"
      ]
    },
    {
      "cell_type": "code",
      "execution_count": 8,
      "id": "0387d625-2d7e-4ab9-99d3-8c677d3a12d9",
      "metadata": {},
      "outputs": [],
      "source": [
        "# ICD-10 codes for main AL types and differential diagnoses\n",
        "conditions_al = pd.DataFrame([\n",
        "    {'icd-10': 'C92.40'},{'icd-10': 'C92.4'},\n",
        "    {'icd-10': 'C92.4%2B'},{'icd-10': 'C92.40%2B'},\n",
        "    {'icd-10': 'C92.00'},{'icd-10': 'C92.0'},\n",
        "    {'icd-10': 'C92.00%2B'},{'icd-10': 'C92.0%2B'},\n",
        "    {'icd-10': 'C91.00'},{'icd-10': 'C91.0'},\n",
        "    {'icd-10': 'C91.00%2B'},{'icd-10': 'C91.0%2B'},\n",
        "    {'icd-10': 'C92.10'},{'icd-10': 'C92.1'},\n",
        "    {'icd-10': 'C92.10%2B'},{'icd-10': 'C92.1%2B'},\n",
        "    {'icd-10': 'D46.90'},{'icd-10': 'D46.9'},\n",
        "    {'icd-10': 'D46.90%2B'},{'icd-10': 'D46.9%2B'},\n",
        "    {'icd-10': 'D61.90'},{'icd-10': 'D61.9'},\n",
        "    {'icd-10': 'D61.90%2B'},{'icd-10': 'D61.9%2B'}\n",
        "    {'icd-10': 'C83.10'},{'icd-10': 'C83.1'},\n",
        "    {'icd-10': 'C83.1%2B'},{'icd-10': 'C83.10%2B'},\n",
        "    {'icd-10': 'C83.11'},{'icd-10': 'C83.12'},\n",
        "    {'icd-10': 'C83.11%2B'},{'icd-10': 'C83.12%2B'},\n",
        "    {'icd-10': 'C83.13'},{'icd-10': 'C83.14'},\n",
        "    {'icd-10': 'C83.13%2B'},{'icd-10': 'C83.14%2B'},\n",
        "    {'icd-10': 'C83.15'},{'icd-10': 'C83.16'},\n",
        "    {'icd-10': 'C83.15%2B'},{'icd-10': 'C83.16%2B'},\n",
        "    {'icd-10': 'C83.17'},{'icd-10': 'C83.18'},\n",
        "    {'icd-10': 'C83.17%2B'},{'icd-10': 'C83.18%2B'},\n",
        "    {'icd-10': 'C83.19'},{'icd-10': 'C83.19%2B'},\n",
        "])"
      ]
    },
    {
      "cell_type": "code",
      "execution_count": 10,
      "id": "4357041c-5c69-447f-ad57-85931ba3eb5c",
      "metadata": {},
      "outputs": [
        {
          "name": "stderr",
          "output_type": "stream",
          "text": [
            "Query Rows (Condition): 100%|██████████| 24/24 [01:48<00:00,  4.54s/it]\n"
          ]
        }
      ],
      "source": [
        "# Search FHIR-resource Condition, filtered by defined ICD-10 codes and date >= 2015-01\n",
        "dr_bundles = search.trade_rows_for_bundles(\n",
        "  conditions_al,\n",
        "  resource_type=\"Condition\",\n",
        "  request_params={\"_count\": \"10000\",\"_sort\":'_id',\"recorded-date\": \"ge2015-01\"},\n",
        "  df_constraints={\"code\": \"icd-10\"}\n",
        ")\n",
        "conditions_df = search.bundles_to_dataframe(\n",
        "    bundles=dr_bundles)\n",
        "conditions_df.to_csv(f\"{DATA_PATH}/conditions_al_types.csv\",sep=';',index=False)\n",
        "\n",
        "# Filter for types discharge and postoperative diagnosis\n",
        "cond_type = ['ENT', 'POP']\n",
        "conditions_df_dis = conditions_df[conditions_df['category_0_coding_0_code'].isin(cond_type)]\n",
        "conditions_df_dis.to_csv(f\"{DATA_PATH}/conditions_al_types_dis_pop.csv\",sep=';',index=False)\n"
      ]
    },
    {
      "cell_type": "code",
      "execution_count": null,
      "id": "2dfe26ea-8827-4176-ae29-c15d8e36a85a",
      "metadata": {},
      "outputs": [],
      "source": [
        "# Search FHIR-resource Encounter, filtered by discharge and postoperative diagnosis\n",
        "encounters = conditions_df_dis['encounter_reference'].dropna().drop_duplicates().reset_index(drop=True).str.split('Encounter/').str[-1].to_frame(name='encounter_reference')\n",
        "\n",
        "dr_bundles = search.trade_rows_for_bundles(\n",
        "  encounters,\n",
        "  resource_type=\"Encounter\",\n",
        "  request_params={\"_count\": \"10000\",\"_sort\":'_id'},\n",
        "  df_constraints={\"_id\": \"encounter_reference\"}\n",
        ")\n",
        "\n",
        "encounters_df = search.bundles_to_dataframe(\n",
        "    bundles=dr_bundles)\n",
        "encounters_df.to_csv(f\"{DATA_PATH}/encounters.csv\",sep=';',index=False)\n",
        "\n",
        "# Exclude ambulatory encounters\n",
        "idx_drop = encounters_df[encounters_df['class_code'] == 'AMB'].index\n",
        "encounters_df_imp = encounters_df.drop(idx_drop)\n",
        "encounters_df_imp.to_csv(f\"{DATA_PATH}/encounters_imp.csv\",sep=';',index=False)\n"
      ]
    },
    {
      "cell_type": "code",
      "execution_count": null,
      "id": "9ab707e9-fd63-4f63-b8a4-93e48570d2d9",
      "metadata": {},
      "outputs": [],
      "source": [
        "# Search FHIR-resource Observation for laboratory values, filtered by inpatient encounters\n",
        "encounters_df_imp['id'] = encounters_df_imp['id'].apply(lambda x: 'Encounter/' + x)\n",
        "\n",
        "dr_bundles = search.trade_rows_for_bundles(\n",
        "  encounters_df_imp,\n",
        "  resource_type=\"Observation\",\n",
        "  request_params={\"category\": \"laboratory\",\"_sort\":\"date\",\"_count\": \"10000\"},\n",
        "  df_constraints={\"encounter\": \"id\"}\n",
        ")\n",
        "labs_df = search.bundles_to_dataframe(\n",
        "    bundles=dr_bundles)\n",
        "\n",
        "labs_df.to_csv(f\"{DATA_PATH}/labs.csv\",sep=';',index=False)\n"
      ]
    },
    {
      "cell_type": "code",
      "execution_count": null,
      "id": "bc7a0e7c-2808-4adf-94cd-522dde8c6668",
      "metadata": {},
      "outputs": [],
      "source": [
        "# Keep only lab values relevant to AIPAL\n",
        "labs_filter = [\"zMCV\", \"zMCHC\", \"zTHRA\", \"zLEUA\", \"zLYM#\", \"zMON#\", \"zTPZCS\", \"zFIBRCS\", \"zLDH\", \"zBLAM\"]\n",
        "lab_df_subset = labs_df[labs_df['code_coding_0_code'].isin(labs_filter)]\n",
        "lab_df_subset.to_csv(f\"{DATA_PATH}/labs_aipal.csv\",sep=';', index=False)\n",
        "\n",
        "# Get only the first recorded lab value per encounter\n",
        "# Check datetime type\n",
        "lab_df_subset['effectiveDateTime'] = pd.to_datetime(lab_df_subset['effectiveDateTime'])\n",
        "lab_values_first = lab_df_subset.dropna(subset=['effectiveDateTime'])\n",
        "\n",
        "# Group by encounter_reference and code_coding_0_code and get the indices of minimal effectiveDateTime\n",
        "idx = lab_values_first.groupby(['encounter_reference', 'code_coding_0_code'])['effectiveDateTime'].idxmin()\n",
        "\n",
        "# Filter the DataFrame using the indices\n",
        "lab_values_first = lab_values_first.loc[idx]\n",
        "lab_values_first = lab_values_first.reset_index(drop=True)\n",
        "lab_values_first.to_csv(f\"{DATA_PATH}/labs_aipal_first.csv\",sep=';', index=False)"
      ]
    },
    {
      "cell_type": "code",
      "execution_count": null,
      "id": "15d7060d-ade6-4ed9-a784-837eaaa91db9",
      "metadata": {},
      "outputs": [],
      "source": [
        "# Search FHIR-resource Patient, filtered by patients for which laboratory values are available\n",
        "lab_values_first['subject_id'] = lab_values_first['subject_reference'].str.replace('Patient/', '')\n",
        "lab_values_unique = lab_values_first[['subject_id']].drop_duplicates().reset_index(drop=True)\n",
        "\n",
        "dr_bundles = search.trade_rows_for_bundles(\n",
        "  lab_values_first,\n",
        "  resource_type=\"Patient\",\n",
        "  request_params={\"_count\": \"10000\"},\n",
        "  df_constraints={\"_id\": \"subject_id\"}\n",
        ")\n",
        "\n",
        "patients_df = search.bundles_to_dataframe(\n",
        "    bundles=dr_bundles,\n",
        "    fhir_paths=[(\"subject_reference\", \"id\"), (\"birth_date\", \"birthDate\"),\"gender\"]\n",
        ")\n",
        "patients_df.to_csv(f\"{DATA_PATH}/patients_aipal.csv\",sep=';', index=False)"
      ]
    }
  ],
  "metadata": {
    "kernelspec": {
      "display_name": "Python 3 (ipykernel)",
      "language": "python",
      "name": "python3"
    },
    "language_info": {
      "codemirror_mode": {
        "name": "ipython",
        "version": 3
      },
      "file_extension": ".py",
      "mimetype": "text/x-python",
      "name": "python",
      "nbconvert_exporter": "python",
      "pygments_lexer": "ipython3",
      "version": "3.12.0"
    }
  },
  "nbformat": 4,
  "nbformat_minor": 5
}
